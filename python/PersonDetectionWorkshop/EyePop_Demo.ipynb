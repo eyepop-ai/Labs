{
 "cells": [
  {
   "cell_type": "code",
   "execution_count": null,
   "metadata": {
    "vscode": {
     "languageId": "plaintext"
    }
   },
   "outputs": [],
   "source": [
    "# 🧠 EyePop.ai - Person Detection Workshop\n",
    "# To run this notebook, you must provide your API credentials below\n",
    "\n",
    "# ✅ Step 1: Install required libraries\n",
    "!pip install -q eyepop pillow matplotlib python-dotenv requests\n",
    "\n",
    "# ✅ Step 2: Provide your EyePop credentials"
   ]
  },
  {
   "cell_type": "code",
   "execution_count": null,
   "metadata": {
    "vscode": {
     "languageId": "plaintext"
    }
   },
   "outputs": [],
   "source": [
    "# flake8: noqa\n",
    "# This is a simple example of how to use the EyePop SDK \n",
    "# to detect text in an image\n",
    "from eyepop import EyePopSdk\n",
    "\n",
    "# For pretty printing\n",
    "import json\n",
    "\n",
    "import requests\n",
    "from io import BytesIO\n",
    "\n",
    "# For displaying images\n",
    "from PIL import Image\n",
    "import matplotlib.pyplot as plt\n",
    "\n",
    "POP_ID = \"ADD YOUR POP ID\"\n",
    "SECRET_KEY = \"ADD YOUR API KEY\"\n",
    "\n",
    "example_image_url = 'https://github.com/eyepop-ai/Labs/blob/main/python/PersonDetectionWorkshop/images/person4.jpg?raw=true'\n",
    "\n",
    "with EyePopSdk.workerEndpoint(\n",
    "    pop_id=POP_ID,\n",
    "    secret_key=SECRET_KEY\n",
    ") as endpoint:\n",
    "\n",
    "    result = endpoint.load_from(example_image_url).predict()\n",
    "\n",
    "    print(json.dumps(result, indent=4))\n",
    "\n",
    "    filtered_objects = [obj for obj in result[\"objects\"] if obj[\"confidence\"] > 0.80]\n",
    "    filtered_result = {**result, \"objects\": filtered_objects}\n",
    "\n",
    "    response = requests.get(example_image_url)\n",
    "\n",
    "    with Image.open(BytesIO(response.content)) as image:\n",
    "        plt.imshow(image)\n",
    "\n",
    "    plot = EyePopSdk.plot(plt.gca())\n",
    "    plot.prediction(filtered_result)\n",
    "\n",
    "    # check \n",
    "    for obj in filtered_result[\"objects\"]:\n",
    "        if obj[\"classLabel\"] != \"person\":\n",
    "            continue\n",
    "\n",
    "        for point in obj[\"keyPoints\"][0]['points']:\n",
    "            print(point)\n",
    "            plt.plot(point[\"x\"], point[\"y\"], \"bo\")\n",
    "            plt.text(point[\"x\"], point[\"y\"], point[\"classLabel\"], fontsize=12, color=\"blue\")\n",
    "    \n",
    "    plt.show()\n",
    "\n"
   ]
  }
 ],
 "metadata": {
  "language_info": {
   "name": "python"
  }
 },
 "nbformat": 4,
 "nbformat_minor": 2
}
