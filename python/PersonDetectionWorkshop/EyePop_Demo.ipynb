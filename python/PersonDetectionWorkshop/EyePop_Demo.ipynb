{
 "cells": [
  {
   "cell_type": "code",
   "execution_count": null,
   "metadata": {
    "vscode": {
     "languageId": "plaintext"
    }
   },
   "outputs": [],
   "source": [
    "# 🧠 EyePop.ai - Person Detection Workshop\n",
    "# To run this notebook, you must provide your API credentials below\n",
    "\n",
    "# ✅ Step 1: Install required libraries\n",
    "!pip install -q eyepop pillow matplotlib python-dotenv requests\n",
    "\n",
    "# ✅ Step 2: Provide your EyePop credentials"
   ]
  },
  {
   "cell_type": "code",
   "execution_count": null,
   "metadata": {
    "vscode": {
     "languageId": "plaintext"
    }
   },
   "outputs": [],
   "source": [
    "# flake8: noqa\n",
    "\n",
    "# --- Setup and Imports ---\n",
    "# EyePop SDK for computer vision\n",
    "from eyepop import EyePopSdk\n",
    "\n",
    "# Image display and processing\n",
    "from PIL import Image\n",
    "import matplotlib.pyplot as plt\n",
    "import matplotlib.patches as patches\n",
    "from io import BytesIO\n",
    "\n",
    "# Networking and formatting\n",
    "import requests\n",
    "import json\n",
    "\n",
    "# --- Credentials & Image URL ---\n",
    "POP_ID = \"<Add Your Pop UUID>\"\n",
    "SECRET_KEY = \"<Add Your API Key>\"\n",
    "example_image_url = 'https://github.com/eyepop-ai/Labs/blob/main/python/PersonDetectionWorkshop/images/person4.jpg?raw=true'\n",
    "\n",
    "# --- Load and Predict ---\n",
    "with EyePopSdk.workerEndpoint(pop_id=POP_ID, secret_key=SECRET_KEY) as endpoint:\n",
    "    result = endpoint.load_from(example_image_url).predict()\n",
    "    print(\"Full Prediction Result:\")\n",
    "    print(json.dumps(result, indent=4))\n",
    "\n",
    "    # Filter predictions with confidence > 0.80\n",
    "    filtered_objects = [obj for obj in result[\"objects\"] if obj[\"confidence\"] > 0.80]\n",
    "    filtered_result = {**result, \"objects\": filtered_objects}\n",
    "\n",
    "# --- Display Image with Annotations ---\n",
    "def draw_pretty_keypoints(ax, objects):\n",
    "    for obj in objects:\n",
    "        if obj[\"classLabel\"] != \"person\":\n",
    "            continue\n",
    "\n",
    "        keypoints = obj[\"keyPoints\"][0][\"points\"]\n",
    "        for point in keypoints:\n",
    "            x, y = point[\"x\"], point[\"y\"]\n",
    "            label = point[\"classLabel\"]\n",
    "\n",
    "            # Draw a circle marker\n",
    "            circle = patches.Circle((x, y), radius=4, color=\"cyan\", ec=\"black\", linewidth=1.5, zorder=3)\n",
    "            ax.add_patch(circle)\n",
    "\n",
    "            # Add a text label with background\n",
    "            ax.text(\n",
    "                x + 6, y - 6, label,\n",
    "                fontsize=9,\n",
    "                color=\"white\",\n",
    "                bbox=dict(boxstyle=\"round,pad=0.2\", fc=\"black\", ec=\"none\", alpha=0.7),\n",
    "                zorder=4,\n",
    "            )\n",
    "\n",
    "\n",
    "response = requests.get(example_image_url)\n",
    "image = Image.open(BytesIO(response.content))\n",
    "\n",
    "plt.figure(figsize=(10, 8))\n",
    "plt.imshow(image)\n",
    "plt.axis(\"off\")\n",
    "\n",
    "# Plot predictions\n",
    "plot = EyePopSdk.plot(plt.gca())\n",
    "plot.prediction(filtered_result)\n",
    "\n",
    "# Optionally, highlight keypoints for 'person' class\n",
    "draw_pretty_keypoints(plt.gca(), filtered_result[\"objects\"])\n",
    "\n",
    "plt.title(\"Detected Persons with Keypoints\", fontsize=16)\n",
    "plt.show()"
   ]
  }
 ],
 "metadata": {
  "language_info": {
   "name": "python"
  }
 },
 "nbformat": 4,
 "nbformat_minor": 2
}
