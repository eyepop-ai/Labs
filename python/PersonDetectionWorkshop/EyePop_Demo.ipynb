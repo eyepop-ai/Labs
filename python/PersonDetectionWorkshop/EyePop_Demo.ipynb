{
 "cells": [
  {
   "cell_type": "code",
   "execution_count": null,
   "metadata": {
    "vscode": {
     "languageId": "plaintext"
    }
   },
   "outputs": [],
   "source": [
    "# 🧠 EyePop.ai - Person Detection Workshop\n",
    "# To run this notebook, you must provide your API credentials below\n",
    "\n",
    "# ✅ Step 1: Install required libraries\n",
    "!pip install -q eyepop-sdk pillow matplotlib python-dotenv\n",
    "\n",
    "# ✅ Step 2: Provide your EyePop credentials"
   ]
  },
  {
   "cell_type": "code",
   "execution_count": null,
   "metadata": {
    "vscode": {
     "languageId": "plaintext"
    }
   },
   "outputs": [],
   "source": [
    "# flake8: noqa\n",
    "# This is a simple example of how to use the EyePop SDK \n",
    "# to detect text in an image\n",
    "from eyepop import EyePopSdk\n",
    "\n",
    "# For pretty printing\n",
    "import json\n",
    "\n",
    "# .env configuration\n",
    "from dotenv import load_dotenv\n",
    "\n",
    "# For displaying images\n",
    "from PIL import Image\n",
    "import matplotlib.pyplot as plt\n",
    "\n",
    "load_dotenv()\n",
    "\n",
    "POP_ID = os.getenv(\"EYEPOP_POP_ID\")\n",
    "SECRET_KEY = os.getenv(\"EYEPOP_SECRET_KEY\")\n",
    "\n",
    "#example_image_path = './images/person1.jpg'\n",
    "#example_image_path = './images/person2.jpg'\n",
    "example_image_path = './images/person4.jpg'\n",
    "\n",
    "with EyePopSdk.workerEndpoint(\n",
    "    pop_id=POP_ID,\n",
    "    secret_key=SECRET_KEY\n",
    ") as endpoint:\n",
    "\n",
    "    result = endpoint.upload(example_image_path).predict()\n",
    "\n",
    "    print(json.dumps(result, indent=4))\n",
    "\n",
    "    filtered_objects = [obj for obj in result[\"objects\"] if obj[\"confidence\"] > 0.80]\n",
    "    filtered_result = {**result, \"objects\": filtered_objects}\n",
    "\n",
    "    with Image.open(example_image_path) as image:\n",
    "        plt.imshow(image)\n",
    "\n",
    "    plot = EyePopSdk.plot(plt.gca())\n",
    "    #plot.prediction(filtered_result)\n",
    "\n",
    "    # draw white box over entire image\n",
    "    plt.gca().add_patch(\n",
    "        plt.Rectangle((0, 0), image.width, image.height, color=\"white\", alpha=1)\n",
    "    )\n",
    "\n",
    "    # check \n",
    "    for obj in filtered_result[\"objects\"]:\n",
    "        if obj[\"classLabel\"] != \"person\":\n",
    "            continue\n",
    "\n",
    "        # draw a red box around the person, just a border\n",
    "        plt.gca().add_patch(\n",
    "            plt.Rectangle(\n",
    "            (obj[\"x\"], obj[\"y\"]),\n",
    "            obj[\"width\"],\n",
    "            obj[\"height\"],\n",
    "            edgecolor=\"red\",\n",
    "            facecolor=\"none\",\n",
    "            linewidth=2,\n",
    "            )\n",
    "        )\n",
    "\n",
    "        for point in obj[\"keyPoints\"][0]['points']:\n",
    "            print(point)\n",
    "            plt.plot(point[\"x\"], point[\"y\"], \"bo\")\n",
    "            plt.text(point[\"x\"], point[\"y\"], point[\"classLabel\"], fontsize=12, color=\"blue\")\n",
    "    \n",
    "    plt.show()\n"
   ]
  }
 ],
 "metadata": {
  "language_info": {
   "name": "python"
  }
 },
 "nbformat": 4,
 "nbformat_minor": 2
}
